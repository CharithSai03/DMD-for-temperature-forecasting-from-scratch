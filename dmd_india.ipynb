{
 "cells": [
  {
   "cell_type": "code",
   "execution_count": 63,
   "metadata": {},
   "outputs": [],
   "source": [
    "import tarfile\n",
    "import pandas as pd\n",
    "import glob\n",
    "from scipy import linalg\n",
    "import numpy as np\n",
    "import matplotlib.pyplot as plt"
   ]
  },
  {
   "attachments": {},
   "cell_type": "markdown",
   "metadata": {},
   "source": [
    "reading all csv files from folder"
   ]
  },
  {
   "cell_type": "code",
   "execution_count": 64,
   "metadata": {},
   "outputs": [],
   "source": [
    "path = './india/'\n",
    "files = glob.glob(path + '/*.csv')\n",
    "\n",
    "temperatures = []\n",
    "\n",
    "for filename in range(4):\n",
    "    d = pd.read_csv(files[filename])\n",
    "    temperatures.append(list(d.loc[d['YEAR'] == 2019]['TEMPERATURE']))\n"
   ]
  },
  {
   "attachments": {},
   "cell_type": "markdown",
   "metadata": {},
   "source": [
    "checking the files has any error data"
   ]
  },
  {
   "cell_type": "code",
   "execution_count": 65,
   "metadata": {},
   "outputs": [
    {
     "data": {
      "text/plain": [
       "0"
      ]
     },
     "execution_count": 65,
     "metadata": {},
     "output_type": "execute_result"
    }
   ],
   "source": [
    "x = list(d.loc[d['YEAR'] == 2019]['TEMPERATURE'])\n",
    "count = 0\n",
    "for i in x:\n",
    "    if i < 0:\n",
    "        count += 1\n",
    "count"
   ]
  },
  {
   "attachments": {},
   "cell_type": "markdown",
   "metadata": {},
   "source": [
    "list of dates"
   ]
  },
  {
   "cell_type": "code",
   "execution_count": 66,
   "metadata": {},
   "outputs": [],
   "source": [
    "days = list(d.loc[d['YEAR'] == 2019]['DAY'])\n",
    "m_d = []\n",
    "mon = 0\n",
    "for i in days:\n",
    "    if i == 1:\n",
    "        mon += 1\n",
    "    m_d.append(f'{i}/{mon}/2019')\n",
    "\n"
   ]
  },
  {
   "attachments": {},
   "cell_type": "markdown",
   "metadata": {},
   "source": [
    "building dataframe from above data"
   ]
  },
  {
   "cell_type": "code",
   "execution_count": 67,
   "metadata": {},
   "outputs": [],
   "source": [
    "cities = ['Chennai', 'Delhi', 'Kolkata', 'Mumbai']\n",
    "df = pd.DataFrame(temperatures, columns=m_d, index=cities)"
   ]
  },
  {
   "cell_type": "code",
   "execution_count": 68,
   "metadata": {},
   "outputs": [
    {
     "data": {
      "text/html": [
       "<div>\n",
       "<style scoped>\n",
       "    .dataframe tbody tr th:only-of-type {\n",
       "        vertical-align: middle;\n",
       "    }\n",
       "\n",
       "    .dataframe tbody tr th {\n",
       "        vertical-align: top;\n",
       "    }\n",
       "\n",
       "    .dataframe thead th {\n",
       "        text-align: right;\n",
       "    }\n",
       "</style>\n",
       "<table border=\"1\" class=\"dataframe\">\n",
       "  <thead>\n",
       "    <tr style=\"text-align: right;\">\n",
       "      <th></th>\n",
       "      <th>1/1/2019</th>\n",
       "      <th>2/1/2019</th>\n",
       "      <th>3/1/2019</th>\n",
       "      <th>4/1/2019</th>\n",
       "      <th>5/1/2019</th>\n",
       "      <th>6/1/2019</th>\n",
       "      <th>7/1/2019</th>\n",
       "      <th>8/1/2019</th>\n",
       "      <th>9/1/2019</th>\n",
       "      <th>10/1/2019</th>\n",
       "      <th>...</th>\n",
       "      <th>2/8/2019</th>\n",
       "      <th>3/8/2019</th>\n",
       "      <th>4/8/2019</th>\n",
       "      <th>5/8/2019</th>\n",
       "      <th>6/8/2019</th>\n",
       "      <th>7/8/2019</th>\n",
       "      <th>8/8/2019</th>\n",
       "      <th>9/8/2019</th>\n",
       "      <th>10/8/2019</th>\n",
       "      <th>11/8/2019</th>\n",
       "    </tr>\n",
       "  </thead>\n",
       "  <tbody>\n",
       "    <tr>\n",
       "      <th>Chennai</th>\n",
       "      <td>74.9</td>\n",
       "      <td>75.9</td>\n",
       "      <td>75.9</td>\n",
       "      <td>76.5</td>\n",
       "      <td>76.6</td>\n",
       "      <td>77.0</td>\n",
       "      <td>76.8</td>\n",
       "      <td>76.6</td>\n",
       "      <td>76.5</td>\n",
       "      <td>76.9</td>\n",
       "      <td>...</td>\n",
       "      <td>88.3</td>\n",
       "      <td>90.0</td>\n",
       "      <td>89.9</td>\n",
       "      <td>87.0</td>\n",
       "      <td>88.8</td>\n",
       "      <td>89.4</td>\n",
       "      <td>91.1</td>\n",
       "      <td>91.6</td>\n",
       "      <td>90.2</td>\n",
       "      <td>92.0</td>\n",
       "    </tr>\n",
       "    <tr>\n",
       "      <th>Delhi</th>\n",
       "      <td>55.0</td>\n",
       "      <td>56.8</td>\n",
       "      <td>56.3</td>\n",
       "      <td>54.0</td>\n",
       "      <td>55.8</td>\n",
       "      <td>57.1</td>\n",
       "      <td>55.8</td>\n",
       "      <td>56.4</td>\n",
       "      <td>56.3</td>\n",
       "      <td>54.0</td>\n",
       "      <td>...</td>\n",
       "      <td>87.7</td>\n",
       "      <td>86.0</td>\n",
       "      <td>87.5</td>\n",
       "      <td>89.2</td>\n",
       "      <td>81.0</td>\n",
       "      <td>87.7</td>\n",
       "      <td>92.3</td>\n",
       "      <td>88.7</td>\n",
       "      <td>87.9</td>\n",
       "      <td>91.2</td>\n",
       "    </tr>\n",
       "    <tr>\n",
       "      <th>Kolkata</th>\n",
       "      <td>62.8</td>\n",
       "      <td>64.8</td>\n",
       "      <td>63.6</td>\n",
       "      <td>62.4</td>\n",
       "      <td>62.9</td>\n",
       "      <td>65.4</td>\n",
       "      <td>66.1</td>\n",
       "      <td>65.7</td>\n",
       "      <td>64.6</td>\n",
       "      <td>63.7</td>\n",
       "      <td>...</td>\n",
       "      <td>84.9</td>\n",
       "      <td>84.9</td>\n",
       "      <td>84.3</td>\n",
       "      <td>87.9</td>\n",
       "      <td>83.0</td>\n",
       "      <td>80.5</td>\n",
       "      <td>80.3</td>\n",
       "      <td>84.9</td>\n",
       "      <td>86.6</td>\n",
       "      <td>88.0</td>\n",
       "    </tr>\n",
       "    <tr>\n",
       "      <th>Mumbai</th>\n",
       "      <td>76.7</td>\n",
       "      <td>77.9</td>\n",
       "      <td>77.8</td>\n",
       "      <td>79.3</td>\n",
       "      <td>76.7</td>\n",
       "      <td>76.5</td>\n",
       "      <td>78.2</td>\n",
       "      <td>77.4</td>\n",
       "      <td>75.6</td>\n",
       "      <td>77.9</td>\n",
       "      <td>...</td>\n",
       "      <td>80.1</td>\n",
       "      <td>79.5</td>\n",
       "      <td>81.2</td>\n",
       "      <td>82.9</td>\n",
       "      <td>82.5</td>\n",
       "      <td>82.6</td>\n",
       "      <td>82.9</td>\n",
       "      <td>82.6</td>\n",
       "      <td>83.5</td>\n",
       "      <td>83.2</td>\n",
       "    </tr>\n",
       "  </tbody>\n",
       "</table>\n",
       "<p>4 rows × 223 columns</p>\n",
       "</div>"
      ],
      "text/plain": [
       "         1/1/2019  2/1/2019  3/1/2019  4/1/2019  5/1/2019  6/1/2019  7/1/2019  \\\n",
       "Chennai      74.9      75.9      75.9      76.5      76.6      77.0      76.8   \n",
       "Delhi        55.0      56.8      56.3      54.0      55.8      57.1      55.8   \n",
       "Kolkata      62.8      64.8      63.6      62.4      62.9      65.4      66.1   \n",
       "Mumbai       76.7      77.9      77.8      79.3      76.7      76.5      78.2   \n",
       "\n",
       "         8/1/2019  9/1/2019  10/1/2019  ...  2/8/2019  3/8/2019  4/8/2019  \\\n",
       "Chennai      76.6      76.5       76.9  ...      88.3      90.0      89.9   \n",
       "Delhi        56.4      56.3       54.0  ...      87.7      86.0      87.5   \n",
       "Kolkata      65.7      64.6       63.7  ...      84.9      84.9      84.3   \n",
       "Mumbai       77.4      75.6       77.9  ...      80.1      79.5      81.2   \n",
       "\n",
       "         5/8/2019  6/8/2019  7/8/2019  8/8/2019  9/8/2019  10/8/2019  \\\n",
       "Chennai      87.0      88.8      89.4      91.1      91.6       90.2   \n",
       "Delhi        89.2      81.0      87.7      92.3      88.7       87.9   \n",
       "Kolkata      87.9      83.0      80.5      80.3      84.9       86.6   \n",
       "Mumbai       82.9      82.5      82.6      82.9      82.6       83.5   \n",
       "\n",
       "         11/8/2019  \n",
       "Chennai       92.0  \n",
       "Delhi         91.2  \n",
       "Kolkata       88.0  \n",
       "Mumbai        83.2  \n",
       "\n",
       "[4 rows x 223 columns]"
      ]
     },
     "execution_count": 68,
     "metadata": {},
     "output_type": "execute_result"
    }
   ],
   "source": [
    "df"
   ]
  },
  {
   "cell_type": "code",
   "execution_count": 69,
   "metadata": {},
   "outputs": [],
   "source": [
    "def DMD(df, window):\n",
    "    df1 = df[df.columns[:window-1]]\n",
    "    df2 = df[df.columns[1:window]]\n",
    "\n",
    "    X1 = df1.values\n",
    "    X2 = df2.values\n",
    "\n",
    "\n",
    "    U, S, Vh = linalg.svd(X1, full_matrices=False)\n",
    "    r = min(np.linalg.matrix_rank(X1), U.shape[1])\n",
    "\n",
    "    U_r = U[:, :r]\n",
    "    S_r = np.diag(S[:r])\n",
    "    V_r = Vh[:r, :]\n",
    "\n",
    "    # A_tilde = np.dot(U.T, np.dot(Xt, np.dot(Vh.T, np.linalg.inv(sigma))))\n",
    "    A_tilde = U_r.conj().T @ X2 @ V_r.conj().T @ np.linalg.inv(S_r)\n",
    "\n",
    "    eig_val, eig_vec = np.linalg.eig(A_tilde)\n",
    "\n",
    "    # phi = (Xt @ Vh.T @ np.linalg.inv(sigma) @ eig_vec)\n",
    "    phi = X2 @ V_r.conj().T @ np.linalg.inv(S_r) @ eig_vec\n",
    "\n",
    "    # freq = np.log(eig_val)\n",
    "\n",
    "    x1 = X1[:,0]\n",
    "    b = np.linalg.pinv(phi) @ x1   # amplitudes\n",
    "\n",
    "    return phi, eig_val, b\n",
    "    \n"
   ]
  },
  {
   "cell_type": "code",
   "execution_count": 70,
   "metadata": {},
   "outputs": [],
   "source": [
    "def predict(window, days, phi, freq, b):\n",
    "    t1 = np.linspace(1,10,100)\n",
    "    dt = t1[1]-t1[0]\n",
    "    t_dyn = np.zeros((window-1,days))\n",
    "    t = np.arange(0,days)*dt\n",
    "\n",
    "    for iter in range(days):\n",
    "        t_dyn[:, iter] = b * np.exp(freq * t[iter])\n",
    "\n",
    "    x_dmd = np.dot(phi, t_dyn)\n",
    "    return x_dmd"
   ]
  },
  {
   "cell_type": "code",
   "execution_count": 71,
   "metadata": {},
   "outputs": [],
   "source": [
    "def rmse(org,pred):\n",
    "    out = []\n",
    "    cities = ['Chennai', 'Delhi', 'Kolkata', 'Mumbai']\n",
    "    t = (org-pred.real)**2\n",
    "    for i in range(4):\n",
    "        x = np.mean(t.loc[cities[i]])\n",
    "        out.append(np.sqrt(x))\n",
    "    return out\n"
   ]
  },
  {
   "cell_type": "code",
   "execution_count": 72,
   "metadata": {},
   "outputs": [],
   "source": [
    "window = int(input('enter window size = '))"
   ]
  },
  {
   "cell_type": "code",
   "execution_count": 73,
   "metadata": {},
   "outputs": [],
   "source": [
    "phi, freq, b = DMD(df, window)\n"
   ]
  },
  {
   "cell_type": "code",
   "execution_count": 74,
   "metadata": {},
   "outputs": [
    {
     "name": "stderr",
     "output_type": "stream",
     "text": [
      "C:\\Users\\rchar\\AppData\\Local\\Temp\\ipykernel_21764\\3889421443.py:8: ComplexWarning: Casting complex values to real discards the imaginary part\n",
      "  t_dyn[:, iter] = b * np.exp(freq * t[iter])\n"
     ]
    },
    {
     "data": {
      "text/plain": [
       "[2.088034339653376, 2.052131011156895, 2.5495173638135498, 0.20929206356369434]"
      ]
     },
     "execution_count": 74,
     "metadata": {},
     "output_type": "execute_result"
    }
   ],
   "source": [
    "# days_want_to_predict = int(input('No.of days you want to predict = '))\n",
    "days_want_to_predict = 1\n",
    "org = df[df.columns[window:window+days_want_to_predict]]\n",
    "pred = predict(window, days_want_to_predict, phi, freq, b)\n",
    "err1 = rmse(org, pred)\n",
    "err1"
   ]
  },
  {
   "cell_type": "code",
   "execution_count": 75,
   "metadata": {},
   "outputs": [
    {
     "data": {
      "text/plain": [
       "1.7247436945468788"
      ]
     },
     "execution_count": 75,
     "metadata": {},
     "output_type": "execute_result"
    }
   ],
   "source": [
    "np.mean(err1)"
   ]
  },
  {
   "cell_type": "code",
   "execution_count": 76,
   "metadata": {},
   "outputs": [
    {
     "name": "stderr",
     "output_type": "stream",
     "text": [
      "C:\\Users\\rchar\\AppData\\Local\\Temp\\ipykernel_21764\\3889421443.py:8: ComplexWarning: Casting complex values to real discards the imaginary part\n",
      "  t_dyn[:, iter] = b * np.exp(freq * t[iter])\n"
     ]
    },
    {
     "data": {
      "text/plain": [
       "[8.404636859526612, 6.321083064785086, 6.077617704575649, 9.200049413388387]"
      ]
     },
     "execution_count": 76,
     "metadata": {},
     "output_type": "execute_result"
    }
   ],
   "source": [
    "# days_want_to_predict = int(input('No.of days you want to predict = '))\n",
    "days_want_to_predict = 3\n",
    "org2 = df[df.columns[window:window+days_want_to_predict]]\n",
    "pred = predict(window, days_want_to_predict, phi, freq, b)\n",
    "err2 = rmse(org2, pred)\n",
    "err2"
   ]
  },
  {
   "cell_type": "code",
   "execution_count": 77,
   "metadata": {},
   "outputs": [
    {
     "data": {
      "text/plain": [
       "7.500846760568933"
      ]
     },
     "execution_count": 77,
     "metadata": {},
     "output_type": "execute_result"
    }
   ],
   "source": [
    "np.mean(err2)"
   ]
  },
  {
   "cell_type": "code",
   "execution_count": 78,
   "metadata": {},
   "outputs": [
    {
     "name": "stderr",
     "output_type": "stream",
     "text": [
      "C:\\Users\\rchar\\AppData\\Local\\Temp\\ipykernel_21764\\3889421443.py:8: ComplexWarning: Casting complex values to real discards the imaginary part\n",
      "  t_dyn[:, iter] = b * np.exp(freq * t[iter])\n"
     ]
    },
    {
     "data": {
      "text/plain": [
       "[18.3037428856565, 14.366877465006219, 15.308764924364324, 19.92441124378809]"
      ]
     },
     "execution_count": 78,
     "metadata": {},
     "output_type": "execute_result"
    }
   ],
   "source": [
    "# days_want_to_predict = int(input('No.of days you want to predict = '))\n",
    "days_want_to_predict = 5\n",
    "org3 = df[df.columns[window:window+days_want_to_predict]]\n",
    "pred = predict(window, days_want_to_predict, phi, freq, b)\n",
    "err3 = rmse(org3, pred)\n",
    "err3"
   ]
  },
  {
   "cell_type": "code",
   "execution_count": 79,
   "metadata": {},
   "outputs": [
    {
     "data": {
      "text/plain": [
       "16.975949129703782"
      ]
     },
     "execution_count": 79,
     "metadata": {},
     "output_type": "execute_result"
    }
   ],
   "source": [
    "np.mean(err3)"
   ]
  },
  {
   "cell_type": "code",
   "execution_count": 86,
   "metadata": {},
   "outputs": [
    {
     "data": {
      "image/png": "[encoded data removed]",
      "text/plain": [
       "<Figure size 432x288 with 1 Axes>"
      ]
     },
     "metadata": {
      "needs_background": "light"
     },
     "output_type": "display_data"
    }
   ],
   "source": [
    "x_axis = np.arange(len(err1))\n",
    "cities = ['Chennai', 'Delhi', 'Kolkata', \"Mumbai\"]\n",
    "plt.bar(x_axis +0.20, err1, width=0.2, label='1 Day')\n",
    "plt.bar(x_axis +0.20*2, err2, width=0.2, label='3 Day')\n",
    "plt.bar(x_axis +0.20*3, err3, width=0.2, label='5 Day')\n",
    "plt.xticks(x_axis, cities)\n",
    "plt.legend()\n",
    "plt.show()"
   ]
  }
 ],
 "metadata": {
  "kernelspec": {
   "display_name": "base",
   "language": "python",
   "name": "python3"
  },
  "language_info": {
   "codemirror_mode": {
    "name": "ipython",
    "version": 3
   },
   "file_extension": ".py",
   "mimetype": "text/x-python",
   "name": "python",
   "nbconvert_exporter": "python",
   "pygments_lexer": "ipython3",
   "version": "3.9.12"
  },
  "orig_nbformat": 4,
  "vscode": {
   "interpreter": {
    "hash": "b389d0c0a31b37ae050c9fd7da720b5ea7e6aeaab2f3c95a23c613607583b6ff"
   }
  }
 },
 "nbformat": 4,
 "nbformat_minor": 2
}
